{
 "cells": [
  {
   "cell_type": "markdown",
   "metadata": {},
   "source": [
    "## ContentDM ARK Assignment\n",
    "scripted by Ryan Wolfslayer, Iowa State University"
   ]
  },
  {
   "cell_type": "code",
   "execution_count": 2,
   "metadata": {},
   "outputs": [],
   "source": [
    "import arks_code.download_cdm as cdm \n",
    "import arks_code.transformations as trans\n",
    "import ast\n",
    "from batch_download import batch_download\n",
    "import glob \n",
    "import gzip\n",
    "import os\n",
    "import os.path\n",
    "import pandas as pd\n",
    "import shutil\n",
    "import subprocess\n",
    "\n",
    "from lxml import etree\n",
    "from lxml.etree import parse\n"
   ]
  },
  {
   "cell_type": "markdown",
   "metadata": {},
   "source": [
    "Step 1 (Optional): Download XML from CDM"
   ]
  },
  {
   "cell_type": "code",
   "execution_count": null,
   "metadata": {
    "collapsed": true
   },
   "outputs": [],
   "source": [
    "# OPTIONAL STEP\n",
    "\n",
    "TARGETPATH=os.path.join(os.getcwd(),'cdm_xml')\n",
    "\n",
    "ff = cdm.DownloadXML()\n",
    "ff.setup(TARGETPATH, driver_path='arks_code/chromedriver')\n",
    "\n",
    "[ff.select_and_export(col) for col in cdm.cdm_collections()]\n",
    "ff.driver.close()\n",
    "\n",
    "# rename files\n",
    "for file in glob.glob(TARGETPATH+'/*.xml'):\n",
    "    root = etree.parse(file).xpath('//rdf:Description/@about', \n",
    "                                   namespaces={'rdf':\n",
    "                                               \"http://www.w3.org/1999/02/22-rdf-syntax-ns#\"})\n",
    "    shutil.move(file, os.path.join(TARGETPATH, str(root[0].split('/')[-3])+'.xml'))\n"
   ]
  },
  {
   "cell_type": "markdown",
   "metadata": {},
   "source": [
    "Step 2: Select Collection and convert to dataframe"
   ]
  },
  {
   "cell_type": "code",
   "execution_count": 8,
   "metadata": {},
   "outputs": [],
   "source": [
    "# CHANGE collection_filename to the file you want to use\n",
    "collection_filename = 'cdm_xml/ada_hayden.xml'\n",
    "\n",
    "# If you get an encoding error, try experimenting with the pandas encoding\n",
    "df = pd.read_html(str(trans.dctohtml()(parse(collection_filename))),\n",
    "                  encoding='ASCII')[0]\n",
    "\n",
    "df.columns = df.iloc[0]\n",
    "df = df.iloc[1:]\n",
    "df['publisher'] = 'Iowa State University Library'\n",
    "\n",
    "# Dropping nan values on type works in most collections\n",
    "# df = df.dropna(subset=['type'], axis=0)\n",
    "df['date'] = df['date'].apply(lambda x: trans.remove_nan(x))\n",
    "\n",
    "df['title'] = df['title'].apply(lambda x: trans.remove_xml_encoding(str(x)))\n",
    "df['creator'] = df['creator'].apply(lambda x: trans.remove_xml_encoding(str(x)))\n"
   ]
  },
  {
   "cell_type": "markdown",
   "metadata": {},
   "source": [
    "Step 3: Confirm collection metadata is accurate, and make corrections. \n",
    "Note that this step is subject to change."
   ]
  },
  {
   "cell_type": "code",
   "execution_count": 9,
   "metadata": {},
   "outputs": [
    {
     "data": {
      "text/plain": [
       "(193, 6)"
      ]
     },
     "execution_count": 9,
     "metadata": {},
     "output_type": "execute_result"
    }
   ],
   "source": [
    "# count is incorrect, removing undated rows \n",
    "df = df[df['date']!='undated']\n",
    "df.shape"
   ]
  },
  {
   "cell_type": "markdown",
   "metadata": {},
   "source": [
    "# ENTER LOGIN for EZID\n",
    "\n",
    "At this point, we are ready for upload, make sure to check the shoulder"
   ]
  },
  {
   "cell_type": "code",
   "execution_count": 10,
   "metadata": {},
   "outputs": [],
   "source": [
    "# ENTER LOGIN for EZID\n",
    "import subprocess\n",
    "username = ''\n",
    "password = ''\n",
    "\n",
    "# REPLACE with target\n",
    "shoulder = 'ark:/replace/this'"
   ]
  },
  {
   "cell_type": "markdown",
   "metadata": {},
   "source": [
    "Step 4:"
   ]
  },
  {
   "cell_type": "code",
   "execution_count": 11,
   "metadata": {},
   "outputs": [
    {
     "name": "stdout",
     "output_type": "stream",
     "text": [
      "Erigeron (Fleabane)\n",
      "Erigeron (Fleabane)\n",
      "Hieracium canadense (Canada hawkweed)\n",
      "Rudbeckia hirta (Black-eyed Susan)\n",
      "Monarda fistulosa (Wild bergamot) specimen\n",
      "Vernonia fasciculata (Ironweed)\n",
      "Echinocystis lobata (Wild balsam apple) specimen\n",
      "Eripatorium serolinum (Late-flowering thoroughwort)\n",
      "Silphium perfoliatum (Indian cup) specimen\n",
      "Echinocystis lobata (Wild balsam apple)\n",
      "Aster novae-angliae (New England aster)\n",
      "Bidens frondosa (Beggar-ticks; Boot-jacks)\n",
      "Trifolium repens (White clover)\n",
      "Sicyos angulateo (One-seeded bur cucumber)\n",
      "Helianthus sp. (Sunflower)\n",
      "Eupatorium perfoliatum (Boneset)\n",
      "Liatris scariosa (Blazing star)\n",
      "Bidens cernua (Stick-tight, smaller bur marigolds)\n",
      "Bidens cernua (Stick-tight, smaller bur marigold)\n",
      "Bidens frondoasa and cernua (Leafy-bracted tickseed)\n",
      "Lycium barbarum L. (Matrimony vine)\n",
      "Amorpha canescens (Lead plant)\n",
      "Echinacea purpurea (Coneflower) specimen\n",
      "Cucumis melo (Muskmelon)\n",
      "Prenanthes (Rattlesnake root)\n",
      "Aster multiflorus (Dense flowered aster) specimen\n",
      "Prairie near Lime Springs (Howard County), Iowa\n",
      "Trifolium repens (White clover)\n",
      "Alcea (Hollyhocks)\n",
      "Original Forest Cover of Iowa Map\n",
      "Data chart\n",
      "Announcement naming the Iowa State University Herbarium after Ada Hayden\n",
      "Radio Script: 'Native Iowa Prairie Land'\n",
      "A Report on Some Campus Memorials\n",
      "Photograph of Ada Hayden in College Pasture\n",
      "Photograph of Miss. Ada Hayden, Ames, Iowa, Department of Botany, Sept. 1923\n",
      "Photograph of Ada Hayden in College Pasture\n",
      "Photograph of an Oatfield in valley of Nishnabotna River, Pottawattamie County\n",
      "Photograph of Rodents Holes in a Bluegrass Pasture, Northeast of Ames, Iowa\n",
      "Photograph of a Rodents Hole in a Bluegrass Pasture, Northeast of Ames, Iowa\n",
      "Photograph Showing Soil after being Cultivation by a Drag Harrow, as Part of a Project for the Agricultural Engineering and Botany Department at Iowa State University\n",
      "Photograph of Men Harvesting Onions, St. Ansgar, Mitchell County\n",
      "Photograph of Bare Cow Pasture, Calhoun County\n",
      "Photograph of a Habitat of Polygonum Coccnea, Bayou, North of Panora, Iowa\n",
      "Photograph of a Herd of Cows in a Cut Over Pasture East of Ames\n",
      "Photograph of Potato Digging, East Pottawattamie County\n",
      "Photograph of Turkey River South of Clermont, Fayette County\n",
      "Photograph of a Herd of Cows Grazing in a Cut Over Pasture East of Ames\n",
      "Photograph of a Habitat of Polygonum Coccnea, found North of Panora, Iowa\n",
      "Photograph of Men Harvesting Onions, St. Ansgar, Mitchell County\n",
      "Photograph of Mr. Vogt's Pigs, Pottawattamie County\n",
      "Photograph of Potato Digging, East Pottawattamie County\n",
      "Iowa State College Bachelor of Science Diploma for Ada Hayden\n",
      "Iowa State College Doctor of Philosophy Diploma for Ada Hayden\n",
      "Photograph of a Weedy Cornfield, Sand Burr (Cenchrus Tribuloides), Sandy Morainal Hillside\n",
      "Photograph of a Weedy Cornfield, Sand Burr, Sandy Morainal Hillside\n",
      "Photograph of a Weedy Cornfield, Sandy Morainal Hillside, Old Bed of Des Moines River\n",
      "Letter to Louis Hermann Pammel from A. K. Peitersen, March 29, 1921\n",
      "Letter to A. K. Peitersen from Louis Hermann Pammel, March 25, 1921\n",
      "Letter from Louis Hermann Pammel to A. K. Peitersen, April 1, 1921\n",
      "Letter to Louis Hermann Pammel from A. K. Peitersen, March 23, 1921\n",
      "Letter from Louis Hermann Pammel to the Secretary of Board of Fellowships in Biological Sciences at the National Research Council, June 15, 1923\n",
      "Letter from Louis Hermann Pammel to I. E. Melhus, April 21, 1924\n",
      "Letter from Ada Hayden to Louis Hermann Pammel, April 10, 1924\n",
      "Letter from Ada Hayden to Elizabeth, July 8, 1921\n",
      "Letter from Louis Hermann Pammel to Ada Hayden, July 13, 1925\n",
      "Letter to Louis Hermann Pammel from Ada Hayden, August 4, 1922\n",
      "Letter from Louis Hermann Pammel to Ada Hayden, August 10, 1926\n",
      "Letter from Louis Hermann Pammel to Ada Hayden, July 18, 1921\n",
      "Letter from Ada Hayden to Louis Hermann Pammel, May 17, 1925\n",
      "Letter from Louis Hermann Pammel to Lucia R. Briggs, April 5, 1926\n",
      "Letter from Louis Hermann Pammel to W. H. Stevenson, May 24, 1923\n",
      "Letter from Lucia R. Briggs to Louis Hermann Pammel, April 3, 1926\n",
      "Letter from Louis Hermann to Ada Hayden, July 6, 1925\n",
      "Letter from Louis Hermann Pammel to the Secretary of Board of Fellowships in Biological Sciences at the National Research Council, June 15, 1923\n",
      "Letter to Elizabeth from Ada Hayden on June 12, 1921\n",
      "Letter from Ada Hayden to Louis Hermann, July 14, 1921\n",
      "Letter to Louis Hermann Pammel from Ada Hayden on July 26, 1921\n",
      "Letter from Ada Hayden to Louis Hermann Pammel, 1921\n",
      "Letter to Louis Hermann Pammel from Ada Hayden on July 22, 1922\n",
      "Letter from Ada Hayden to Louis Hermann Pammel, May 16, 1923\n",
      "Letter from Ada Hayden to Louis Hermann Pammel from Ada Hayden, November 29, 1923\n",
      "Letter from Ada Hayden to Louis Hermann Pammel, December 16, 1925\n",
      "Letter from Ada Hayden to Louis Hermann Pammel, January 22, 1924\n",
      "Letter from Ada Hayden to Louis Hermann Pammel, August 7, 1926\n",
      "Letter from Ada Hayden to Louis Hermann Pammel, July 9, 1925\n",
      "Letter from Louis Hermann Pammel to S. W. Beyer, November 24, 1919\n",
      "Letter from Administration of Iowa State College to Ada Hayden, November 8, 1918\n",
      "Letter from C.E. Allen to Louis Hermann Pammel, October 7, 1918\n",
      "Letter from S. W. Beyer to Louis Hermann Pammel, November 21, 1919\n",
      "Copy of a letter from James Shearer to Ada Hayden, February 19, 1920\n",
      "Letter from Louis Hermann Pammel to S. W. Beyer, November 18, 1919\n",
      "Letter from James D. Shearer to Louis Hermann Pammel, December 8, 1919\n",
      "Letter from Louis Hermann Pammel to S. W. Beyer, December 3, 1919\n",
      "Letter from Louis Hermann Pammel to S. W. Beyer, November 21, 1919\n",
      "Copy of a letter from Ada Hayden to Louis Hermann Pammel, December 2, 1919\n",
      "Letter from J. D. Shearer to Louis Hermann Pammel, December 17, 1919\n",
      "Letter from Louis Hermann Pammel to R. E. Buchanan, March 19, 1919\n",
      "Letter from Louis Hermann Pammel to R. A. Pearson, May 24, 1920\n",
      "Letter from S. W. Beyer to Louis Hermann Pammel, December 1, 1919\n",
      "Letter from Ada Hayden to Louis Hermann Pammel, November 14, 1919\n",
      "Letter from Louis Hermann Pammel to S. W. Beyer, November 18, 1919\n",
      "Letter from C.E. Allen to Louis Hermann Pammel, August 5, 1918\n",
      "Letter to Ada Hayden, August 1, 1919\n",
      "Letter from Louis Hermann Pammel to C. E. Allen, August 12, 1918\n",
      "Letter from Charles Curtiss to Louis Hermann Pammel, April 20, 1920\n",
      "Letter from S. W. Beyer to Louis Hermann Pammel, December 1, 1919\n",
      "Letter from Louis Hermann Pammel to C. E. Allen, October 11, 1918\n",
      "Copy of a letter from S. W. Beyer to Louis Hermann Pammel, December 1, 1919\n",
      "Letter from Louis Hermann Pammel to S. W. Beyer, December 3, 1919\n",
      "Letter from S. W. Beyer to Louis Hermann Pammel, December 1, 1919\n",
      "Letter from Louis Hermann Pammel to J. D. Shearer, December 11, 1919\n",
      "Letter from R. A. Pearson to Louis Hermann Pammel, June 1, 1920\n",
      "Letter from C.E. Allen to Louis Hermann Pammel, August 15, 1918\n",
      "Letter from Louis Hermann Pammel to S. W. Beyer, November 21, 1919\n",
      "Copy of a Letter from Louis Hermann Pammel to S. W. Beyer, November 24, 1919\n",
      "Copy of a letter from E. W. Stanton to J. D. Shearer, January 24, 1920\n",
      "Letter from S. W. Beyer to Louis Hermann Pammel, May 24, 1920\n",
      "Letter from S. W. Beyer to Louis Hermann Pammel, November 21, 1919\n",
      "Letter from J. N. Martin to Louis Hermann Pammel, November 21, 1919\n",
      "Letter from Louis Hermann Pammel to C. E. Allen, August 26, 1918\n",
      "Copy of a letter from Ada Hayden to Louis Hermann Pammel, December 2, 1919\n",
      "Letter from Ada Hayden to the Committee on the United War Efficiency Fund, November 10, 1919\n",
      "Copy of a letter from James Shearer to E. W. Stanton, February 19, 1920\n",
      "Letter from Louis Hermann Pammel to Charles Curtiss, April 21, 1920\n",
      "Letter from S.W. Beyer to Louis Hermann Pammel, October 9, 1919\n",
      "Letter from Ada Hayden to Louis Hermann Pammel, 18, 1919\n",
      "Letter to Louis Hermann Pammel from Ada Hayden on December 2, 1919\n",
      "Letter from Ada Hayden to Louis Hermann Pammel, August 5, 1919\n",
      "Letter from John N. Martin to Louis Hermann Pammel, April 28, 1920\n",
      "Letter from Ada Hayden to Louis Hermann Pammel, September 2, 1919\n",
      "Letter from S. W. Beyer to E. W. Stanton, December 10, 1919\n",
      "Letter from Ada Hayden to Louis Hermann Pammel, August 9, 1919\n",
      "Letter from Ada Hayden to Louis Hermann Pammel, July 28, 1919\n",
      "Letter from Louis Hermann Pammel to J. D. Shearer, December 3, 1919\n",
      "Letter from Ada Hayden to Louis Hermann Pammel, March 18, 1919\n"
     ]
    },
    {
     "name": "stdout",
     "output_type": "stream",
     "text": [
      "Letter from Ada Hayden to Elizabeth, Sept. 16, 1909\n",
      "Letter from Louis Hermann Pammel to Ada Hayden, Sept. 28, 1909\n",
      "Letter from Ada Hayden to Louis Hermann Pammel, September 26, 1909\n",
      "Letter from Louis Hermann Pammel to Ada Hayden, March 14, 1917\n",
      "Letter from Louis Hermann Pammel to Ada Hayden, March 21, 1910\n",
      "Letter from Ada Hayden to Louis Hermann Pammel, April 5, 1910\n",
      "Letter from Ada Hayden to Louis Hermann Pammel, May 9, 1910\n",
      "Letter from Louis Hermann Pammel to Ada Hayden, July 7, 1915\n",
      "Letter from Louis Hermann Pammel to Ada Hayden, April 11, 1910\n",
      "Letter from Louis Hermann Pammel to D. M. Hayden, January 29, 1910\n",
      "Letter from Louis Hermann Pammel to Ada Hayden, May 16, 1917\n",
      "Letter from Ada Hayden to Louis Hermann Pammel, November 15, 1916\n",
      "Letter from Louis Hermann Pammel to D. M. Hayden, November 9, 1909\n",
      "Letter from Louis Hermann Pammel to Ada Hayden, May 2, 1917\n",
      "Letter from Louis Hermann Pammel to Ada Hayden, November 6, 1909\n",
      "Letter from Louis Hermann Pammel to Ada Hayden, June 8, 1910\n",
      "Letter from Louis Hermann Pammel to Ada Hayden, May 3, 1910\n",
      "Letter from Louis Hermann Pammel to D. M. Hayden, November 24, 1909\n",
      "Letter from Louis Hermann Pammel to Ada Hayden, March 16, 1917\n",
      "Letter from Louis Hermann Pammel to Ada Hayden, January 9, 1917\n",
      "Letter from Ada Hayden to Louis Hermann Pammel, March 8, 1917\n",
      "Letter from Louis Hermann Pammel to Ada Hayden, January 8, 1917\n",
      "Letter from Louis Hermann Pammel to Ada Hayden, March 30, 1910\n",
      "Letter from Louis Hermann Pammel to Ada Hayden, January 16, 1917\n",
      "Letter from Louis Hermann Pammel to Ada Hayden, September 16, 1909\n",
      "Letter from Ada Hayden to Louis Hermann Pammel, March 28, 1910\n",
      "Letter from Ada Hayden to Louis Hermann Pammel, August 2, 1912\n",
      "Letter from Ada Hayden to Louis Hermann Pammel, October 13, 1909\n",
      "Letter from Louis Hermann Pammel to Ada Hayden, November 9, 1909\n",
      "Letter from Louis Hermann Pammel to Ada Hayden, April 21, 1910\n",
      "Letter from Louis Hermann Pammel to Ada Hayden, June 4, 1917\n",
      "Letter from Louis Hermann Pammel to Ada Hayden, December 21, 1916\n",
      "Letter from Louis Hermann Pammel to Ada Hayden, April 12, 1910\n",
      "Letter from Louis Hermann Pammel to Ada Hayden, February 9, 1910\n",
      "Letter from Herbert Jones to Louis Hermann Pammel, November 7, 1916\n",
      "Letter from Louis Hermann Pammel to Ada Hayden, April 5, 1917\n",
      "Letter from John Kendall to Louis Hermann Pammel, October 13, 1910\n",
      "Letter from Louis Hermann Pammel to T. W. Shearer, January 16, 1917\n",
      "Letter of recommendation from Louis Hermann Pammel to the Superintendent of Public Schools in Minneapolis, Minnesota, February 21, 1911\n",
      "Letter from Ada Hayden to Louis Hermann Pammel, April 1, 1917\n",
      "Letter from Dr. Gates Roberts to Ada Hayden, December 16, 1916\n",
      "Letter from Ada Hayden to Louis Hermann Pammel, August 26, 1910\n",
      "Letter from Ada Hayden to the Botanical Department survivors of the Spring malade, March 17, 1922\n",
      "Letter from Louis Hermann Pammel to Dr. Buchanan, November 13, 1916\n",
      "Letter from D. M. Hayden to Louis Hermann Pammel, November 22, 1909\n",
      "Letter from Ada Hayden to Louis Hermann Pammel, June 11, 1910\n",
      "Letter to Louis Hermann Pammel from Ada Hayden on April 19, 1910\n",
      "Letter from Louis Hermann Pammel to Ada Hayden, December 27, 1916\n",
      "Letter from Ada Hayden to Louis Hermann Pammel, Feb. 11, 1909\n",
      "Letter from Ada Hayden to Louis Hermann Pammel, March 17, 1910\n",
      "Letters from Ada Hayden to Louis Hermann Pammel, May 1917\n",
      "Letter from Ada Hayden to Louis Hermann Pammel, March 3, 1917\n",
      "Letter from Ada Hayden to Louis Hermann Pammel, August 11, 1909\n",
      "Letter from Ada Hayden to Louis Hermann Pammel, February 4, 1910\n",
      "Letter from Ada Hayden to Louis Hermann Pammel, January 12, 1917\n",
      "Letter from Ada Hayden to Louis Hermann Pammel, May 31, 1917\n",
      "Letter to Ada Hayden from Louis Hermann Pammel on July 3, 1917\n"
     ]
    }
   ],
   "source": [
    "# REGISTER EZID; this will submit to EZID\n",
    "# Requires ezid.py be stored in same directory.\n",
    "for index, row in df.iterrows():\n",
    "    with open('metadata.txt','w') as f:\n",
    "        f.write('erc.who:{}\\n'.format(row['creator']))\n",
    "        f.write('erc.what:{}\\n'.format(row['title']))\n",
    "        f.write('erc.when:{}\\n'.format(row['date']))\n",
    "        print(row['title'])\n",
    "        if row['creator'] != None and str(row['creator']) != 'nan':\n",
    "            f.write('dc.creator:{}\\n'.format(row['creator']))\n",
    "        else:\n",
    "            pass\n",
    "        f.write('dc.title:{}\\n'.format(row['title']))\n",
    "        f.write('dc.publisher:{}\\n'.format(row['publisher']))\n",
    "        if row['date'] != None and str(row['date']) != 'nan':\n",
    "            f.write('dc.date:{}\\n'.format(row['date']))\n",
    "        else:\n",
    "            pass\n",
    "        if row['type'] != None and str(row['type']) != 'nan':\n",
    "            f.write('dc.type:{}\\n'.format(row['type']))\n",
    "        else:\n",
    "            pass\n",
    "        f.write('_target:{}\\n'.format(row['url']))\n",
    "        f.write('_profile:dc')\n",
    "    subprocess.call([\"python\", \"ezid.py\", \"{}:{}\".format(username, password), \"mint\", shoulder, \"@\", \"metadata.txt\"], shell=True)"
   ]
  },
  {
   "cell_type": "markdown",
   "metadata": {},
   "source": [
    "Step 5:"
   ]
  },
  {
   "cell_type": "code",
   "execution_count": 12,
   "metadata": {
    "scrolled": false
   },
   "outputs": [
    {
     "name": "stdout",
     "output_type": "stream",
     "text": [
      "submitting download request...\n",
      "error: method not allowed\n",
      " request failed\n"
     ]
    },
    {
     "ename": "SystemExit",
     "evalue": "1",
     "output_type": "error",
     "traceback": [
      "An exception has occurred, use %tb to see the full traceback.\n",
      "\u001b[1;31mSystemExit\u001b[0m\u001b[1;31m:\u001b[0m 1\n"
     ]
    }
   ],
   "source": [
    "batch_download(username, password, [\"format=xml\", \"type=ark\"])\n",
    "\n",
    "# MAKE SURE there are no gzipped files in the ark directory\n",
    "# prior to running batch_download or this might grab the wrong\n",
    "# file.\n",
    "gzipped_file = next(x for x in os.listdir(\".\") if x.endswith(\".xml.gz\"))\n",
    "output_dir = \"ezid_xml\"\n",
    "target_xml = os.path.join(output_dir, gzipped_file[:-3])\n",
    "\n",
    "with gzip.open(gzipped_file, \"rt\", encoding=\"utf-8\") as ifh:\n",
    "    with open(target_xml, \"w\", encoding=\"utf-8\") as ofh:\n",
    "        ofh.write(ifh.read())\n",
    "\n",
    "# Once we've unzipped the file into the ezid_xml directory,\n",
    "# we can delete the downloaded file.\n",
    "os.remove(gzipped_file)"
   ]
  },
  {
   "cell_type": "code",
   "execution_count": 56,
   "metadata": {},
   "outputs": [],
   "source": [
    "collection_number = 'p16001coll16/' #i.e. p16001coll47/"
   ]
  },
  {
   "cell_type": "markdown",
   "metadata": {},
   "source": [
    "## CDM Upload Process"
   ]
  },
  {
   "cell_type": "markdown",
   "metadata": {},
   "source": [
    "Step 6: Identify target URLs and format as a dictionary"
   ]
  },
  {
   "cell_type": "code",
   "execution_count": 57,
   "metadata": {},
   "outputs": [],
   "source": [
    "# declare collection number to upload\n",
    "\n",
    "root = trans.formatupload(collection_number)(parse(target_xml))\n",
    "my_dict = ast.literal_eval(str(trans.formatxmltodict()(root)))"
   ]
  },
  {
   "cell_type": "markdown",
   "metadata": {},
   "source": [
    "Step 7: Make sure urls are correct"
   ]
  },
  {
   "cell_type": "code",
   "execution_count": 19,
   "metadata": {},
   "outputs": [
    {
     "name": "stdout",
     "output_type": "stream",
     "text": [
      "289\n",
      "{'http://cdm16001.contentdm.oclc.org/cdm/ref/collection/p16001coll16/id/458': 'ark:/87292/w90056', 'http://cdm16001.contentdm.oclc.org/cdm/ref/collection/p16001coll16/id/26': 'ark:/87292/w90323', 'http://cdm16001.contentdm.oclc.org/cdm/ref/collection/p16001coll16/id/398': 'ark:/87292/w9033g', 'http://cdm16001.contentdm.oclc.org/cdm/ref/collection/p16001coll16/id/350': 'ark:/87292/w9091s', 'http://cdm16001.contentdm.oclc.org/cdm/ref/collection/p16001coll16/id/284': 'ark:/87292/w90d0f', 'http://cdm16001.contentdm.oclc.org/cdm/ref/collection/p16001coll16/id/175': 'ark:/87292/w90k86', 'http://cdm16001.contentdm.oclc.org/cdm/ref/collection/p16001coll16/id/80': 'ark:/87292/w90p7v', 'http://cdm16001.contentdm.oclc.org/cdm/ref/collection/p16001coll16/id/481': 'ark:/87292/w90s54', 'http://cdm16001.contentdm.oclc.org/cdm/ref/collection/p16001coll16/id/49': 'ark:/87292/w90w55', 'http://cdm16001.contentdm.oclc.org/cdm/ref/collection/p16001coll16/id/18': 'ark:/87292/w91044', 'http://cdm16001.contentdm.oclc.org/cdm/ref/collection/p16001coll16/id/443': 'ark:/87292/w9105h', 'http://cdm16001.contentdm.oclc.org/cdm/ref/collection/p16001coll16/id/389': 'ark:/87292/w9132d', 'http://cdm16001.contentdm.oclc.org/cdm/ref/collection/p16001coll16/id/317': 'ark:/87292/w91913', 'http://cdm16001.contentdm.oclc.org/cdm/ref/collection/p16001coll16/id/264': 'ark:/87292/w91c9t', 'http://cdm16001.contentdm.oclc.org/cdm/ref/collection/p16001coll16/id/144': 'ark:/87292/w91k8h', 'http://cdm16001.contentdm.oclc.org/cdm/ref/collection/p16001coll16/id/542': 'ark:/87292/w91k9w', 'http://cdm16001.contentdm.oclc.org/cdm/ref/collection/p16001coll16/id/72': 'ark:/87292/w91p6s', 'http://cdm16001.contentdm.oclc.org/cdm/ref/collection/p16001coll16/id/473': 'ark:/87292/w91s76', 'http://cdm16001.contentdm.oclc.org/cdm/ref/collection/p16001coll16/id/41': 'ark:/87292/w91w43', 'http://cdm16001.contentdm.oclc.org/cdm/ref/collection/p16001coll16/id/421': 'ark:/87292/w91w5g', 'http://cdm16001.contentdm.oclc.org/cdm/ref/collection/p16001coll16/id/10': 'ark:/87292/w92032', 'http://cdm16001.contentdm.oclc.org/cdm/ref/collection/p16001coll16/id/379': 'ark:/87292/w92333', 'http://cdm16001.contentdm.oclc.org/cdm/ref/collection/p16001coll16/id/299': 'ark:/87292/w9262r', 'http://cdm16001.contentdm.oclc.org/cdm/ref/collection/p16001coll16/id/240': 'ark:/87292/w92d02', 'http://cdm16001.contentdm.oclc.org/cdm/ref/collection/p16001coll16/id/95': 'ark:/87292/w92g95', 'http://cdm16001.contentdm.oclc.org/cdm/ref/collection/p16001coll16/id/515': 'ark:/87292/w92k7f', 'http://cdm16001.contentdm.oclc.org/cdm/ref/collection/p16001coll16/id/64': 'ark:/87292/w92p7g', 'http://cdm16001.contentdm.oclc.org/cdm/ref/collection/p16001coll16/id/33': 'ark:/87292/w92s64', 'http://cdm16001.contentdm.oclc.org/cdm/ref/collection/p16001coll16/id/465': 'ark:/87292/w92s7h', 'http://cdm16001.contentdm.oclc.org/cdm/ref/collection/p16001coll16/id/405': 'ark:/87292/w92w4d', 'http://cdm16001.contentdm.oclc.org/cdm/ref/collection/p16001coll16/id/2': 'ark:/87292/w9304r', 'http://cdm16001.contentdm.oclc.org/cdm/ref/collection/p16001coll16/id/370': 'ark:/87292/w9333d', 'http://cdm16001.contentdm.oclc.org/cdm/ref/collection/p16001coll16/id/291': 'ark:/87292/w9361p', 'http://cdm16001.contentdm.oclc.org/cdm/ref/collection/p16001coll16/id/196': 'ark:/87292/w93c9f', 'http://cdm16001.contentdm.oclc.org/cdm/ref/collection/p16001coll16/id/87': 'ark:/87292/w93g83', 'http://cdm16001.contentdm.oclc.org/cdm/ref/collection/p16001coll16/id/490': 'ark:/87292/w93k9h', 'http://cdm16001.contentdm.oclc.org/cdm/ref/collection/p16001coll16/id/56': 'ark:/87292/w93p6d', 'http://cdm16001.contentdm.oclc.org/cdm/ref/collection/p16001coll16/id/457': 'ark:/87292/w93p7s', 'http://cdm16001.contentdm.oclc.org/cdm/ref/collection/p16001coll16/id/25': 'ark:/87292/w93s52', 'http://cdm16001.contentdm.oclc.org/cdm/ref/collection/p16001coll16/id/397': 'ark:/87292/w93w6g', 'http://cdm16001.contentdm.oclc.org/cdm/ref/collection/p16001coll16/id/339': 'ark:/87292/w94042', 'http://cdm16001.contentdm.oclc.org/cdm/ref/collection/p16001coll16/id/281': 'ark:/87292/w9462c', 'http://cdm16001.contentdm.oclc.org/cdm/ref/collection/p16001coll16/id/172': 'ark:/87292/w94911', 'http://cdm16001.contentdm.oclc.org/cdm/ref/collection/p16001coll16/id/572': 'ark:/87292/w94c9r', 'http://cdm16001.contentdm.oclc.org/cdm/ref/collection/p16001coll16/id/79': 'ark:/87292/w94g9s', 'http://cdm16001.contentdm.oclc.org/cdm/ref/collection/p16001coll16/id/48': 'ark:/87292/w94k8f', 'http://cdm16001.contentdm.oclc.org/cdm/ref/collection/p16001coll16/id/480': 'ark:/87292/w94k9t', 'http://cdm16001.contentdm.oclc.org/cdm/ref/collection/p16001coll16/id/440': 'ark:/87292/w94p6q', 'http://cdm16001.contentdm.oclc.org/cdm/ref/collection/p16001coll16/id/17': 'ark:/87292/w94s6r', 'http://cdm16001.contentdm.oclc.org/cdm/ref/collection/p16001coll16/id/387': 'ark:/87292/w94w6s', 'http://cdm16001.contentdm.oclc.org/cdm/ref/collection/p16001coll16/id/312': 'ark:/87292/w95030', 'http://cdm16001.contentdm.oclc.org/cdm/ref/collection/p16001coll16/id/261': 'ark:/87292/w95619', 'http://cdm16001.contentdm.oclc.org/cdm/ref/collection/p16001coll16/id/143': 'ark:/87292/w9590z', 'http://cdm16001.contentdm.oclc.org/cdm/ref/collection/p16001coll16/id/539': 'ark:/87292/w95d1c', 'http://cdm16001.contentdm.oclc.org/cdm/ref/collection/p16001coll16/id/71': 'ark:/87292/w95g8q', 'http://cdm16001.contentdm.oclc.org/cdm/ref/collection/p16001coll16/id/472': 'ark:/87292/w95g93', 'http://cdm16001.contentdm.oclc.org/cdm/ref/collection/p16001coll16/id/40': 'ark:/87292/w95k7c', 'http://cdm16001.contentdm.oclc.org/cdm/ref/collection/p16001coll16/id/418': 'ark:/87292/w95p8s', 'http://cdm16001.contentdm.oclc.org/cdm/ref/collection/p16001coll16/id/9': 'ark:/87292/w95s5p', 'http://cdm16001.contentdm.oclc.org/cdm/ref/collection/p16001coll16/id/378': 'ark:/87292/w95s62', 'http://cdm16001.contentdm.oclc.org/cdm/ref/collection/p16001coll16/id/298': 'ark:/87292/w9604p', 'http://cdm16001.contentdm.oclc.org/cdm/ref/collection/p16001coll16/id/237': 'ark:/87292/w9633b', 'http://cdm16001.contentdm.oclc.org/cdm/ref/collection/p16001coll16/id/94': 'ark:/87292/w9691n', 'http://cdm16001.contentdm.oclc.org/cdm/ref/collection/p16001coll16/id/63': 'ark:/87292/w96d09', 'http://cdm16001.contentdm.oclc.org/cdm/ref/collection/p16001coll16/id/512': 'ark:/87292/w96d1p', 'http://cdm16001.contentdm.oclc.org/cdm/ref/collection/p16001coll16/id/464': 'ark:/87292/w96g81', 'http://cdm16001.contentdm.oclc.org/cdm/ref/collection/p16001coll16/id/32': 'ark:/87292/w96k82', 'http://cdm16001.contentdm.oclc.org/cdm/ref/collection/p16001coll16/id/1': 'ark:/87292/w96p7q', 'http://cdm16001.contentdm.oclc.org/cdm/ref/collection/p16001coll16/id/404': 'ark:/87292/w96p83', 'http://cdm16001.contentdm.oclc.org/cdm/ref/collection/p16001coll16/id/369': 'ark:/87292/w96s50', 'http://cdm16001.contentdm.oclc.org/cdm/ref/collection/p16001coll16/id/290': 'ark:/87292/w9703m', 'http://cdm16001.contentdm.oclc.org/cdm/ref/collection/p16001coll16/id/193': 'ark:/87292/w97328', 'http://cdm16001.contentdm.oclc.org/cdm/ref/collection/p16001coll16/id/86': 'ark:/87292/w9790k', 'http://cdm16001.contentdm.oclc.org/cdm/ref/collection/p16001coll16/id/487': 'ark:/87292/w9791z', 'http://cdm16001.contentdm.oclc.org/cdm/ref/collection/p16001coll16/id/55': 'ark:/87292/w97c9p', 'http://cdm16001.contentdm.oclc.org/cdm/ref/collection/p16001coll16/id/456': 'ark:/87292/w97h0n', 'http://cdm16001.contentdm.oclc.org/cdm/ref/collection/p16001coll16/id/24': 'ark:/87292/w97k70', 'http://cdm16001.contentdm.oclc.org/cdm/ref/collection/p16001coll16/id/396': 'ark:/87292/w97k8c', 'http://cdm16001.contentdm.oclc.org/cdm/ref/collection/p16001coll16/id/336': 'ark:/87292/w97s6p', 'http://cdm16001.contentdm.oclc.org/cdm/ref/collection/p16001coll16/id/278': 'ark:/87292/w97w5b', 'http://cdm16001.contentdm.oclc.org/cdm/ref/collection/p16001coll16/id/169': 'ark:/87292/w9833z', 'http://cdm16001.contentdm.oclc.org/cdm/ref/collection/p16001coll16/id/78': 'ark:/87292/w9862m', 'http://cdm16001.contentdm.oclc.org/cdm/ref/collection/p16001coll16/id/569': 'ark:/87292/w98630', 'http://cdm16001.contentdm.oclc.org/cdm/ref/collection/p16001coll16/id/479': 'ark:/87292/w9890w', 'http://cdm16001.contentdm.oclc.org/cdm/ref/collection/p16001coll16/id/47': 'ark:/87292/w98d19', 'http://cdm16001.contentdm.oclc.org/cdm/ref/collection/p16001coll16/id/16': 'ark:/87292/w98g8n', 'http://cdm16001.contentdm.oclc.org/cdm/ref/collection/p16001coll16/id/439': 'ark:/87292/w98g91', 'http://cdm16001.contentdm.oclc.org/cdm/ref/collection/p16001coll16/id/386': 'ark:/87292/w98k79', 'http://cdm16001.contentdm.oclc.org/cdm/ref/collection/p16001coll16/id/309': 'ark:/87292/w98s5m', 'http://cdm16001.contentdm.oclc.org/cdm/ref/collection/p16001coll16/id/258': 'ark:/87292/w98w48', 'http://cdm16001.contentdm.oclc.org/cdm/ref/collection/p16001coll16/id/142': 'ark:/87292/w9932w', 'http://cdm16001.contentdm.oclc.org/cdm/ref/collection/p16001coll16/id/533': 'ark:/87292/w99338', 'http://cdm16001.contentdm.oclc.org/cdm/ref/collection/p16001coll16/id/70': 'ark:/87292/w9961j', 'http://cdm16001.contentdm.oclc.org/cdm/ref/collection/p16001coll16/id/471': 'ark:/87292/w9992z', 'http://cdm16001.contentdm.oclc.org/cdm/ref/collection/p16001coll16/id/39': 'ark:/87292/w99c99', 'http://cdm16001.contentdm.oclc.org/cdm/ref/collection/p16001coll16/id/415': 'ark:/87292/w99d07', 'http://cdm16001.contentdm.oclc.org/cdm/ref/collection/p16001coll16/id/8': 'ark:/87292/w99g8z', 'http://cdm16001.contentdm.oclc.org/cdm/ref/collection/p16001coll16/id/377': 'ark:/87292/w99k80', 'http://cdm16001.contentdm.oclc.org/cdm/ref/collection/p16001coll16/id/297': 'ark:/87292/w99p7n', 'http://cdm16001.contentdm.oclc.org/cdm/ref/collection/p16001coll16/id/214': 'ark:/87292/w99w5z', 'http://cdm16001.contentdm.oclc.org/cdm/ref/collection/p16001coll16/id/93': 'ark:/87292/w9b04x', 'http://cdm16001.contentdm.oclc.org/cdm/ref/collection/p16001coll16/id/509': 'ark:/87292/w9b326', 'http://cdm16001.contentdm.oclc.org/cdm/ref/collection/p16001coll16/id/62': 'ark:/87292/w9b63m', 'http://cdm16001.contentdm.oclc.org/cdm/ref/collection/p16001coll16/id/31': 'ark:/87292/w9b90h', 'http://cdm16001.contentdm.oclc.org/cdm/ref/collection/p16001coll16/id/463': 'ark:/87292/w9b91w', 'http://cdm16001.contentdm.oclc.org/cdm/ref/collection/p16001coll16/id/403': 'ark:/87292/w9bd0j', 'http://cdm16001.contentdm.oclc.org/cdm/ref/collection/p16001coll16/id/0': 'ark:/87292/w9bg9n', 'http://cdm16001.contentdm.oclc.org/cdm/ref/collection/p16001coll16/id/368': 'ark:/87292/w9bk7x', 'http://cdm16001.contentdm.oclc.org/cdm/ref/collection/p16001coll16/id/289': 'ark:/87292/w9bp6k', 'http://cdm16001.contentdm.oclc.org/cdm/ref/collection/p16001coll16/id/190': 'ark:/87292/w9bw4w', 'http://cdm16001.contentdm.oclc.org/cdm/ref/collection/p16001coll16/id/85': 'ark:/87292/w9c03v', 'http://cdm16001.contentdm.oclc.org/cdm/ref/collection/p16001coll16/id/486': 'ark:/87292/w9c348', 'http://cdm16001.contentdm.oclc.org/cdm/ref/collection/p16001coll16/id/54': 'ark:/87292/w9c615', 'http://cdm16001.contentdm.oclc.org/cdm/ref/collection/p16001coll16/id/455': 'ark:/87292/w9c62j', 'http://cdm16001.contentdm.oclc.org/cdm/ref/collection/p16001coll16/id/23': 'ark:/87292/w9c90t', 'http://cdm16001.contentdm.oclc.org/cdm/ref/collection/p16001coll16/id/395': 'ark:/87292/w9cd17', 'http://cdm16001.contentdm.oclc.org/cdm/ref/collection/p16001coll16/id/333': 'ark:/87292/w9cg9z', 'http://cdm16001.contentdm.oclc.org/cdm/ref/collection/p16001coll16/id/275': 'ark:/87292/w9cp8n', 'http://cdm16001.contentdm.oclc.org/cdm/ref/collection/p16001coll16/id/166': 'ark:/87292/w9cs5j', 'http://cdm16001.contentdm.oclc.org/cdm/ref/collection/p16001coll16/id/558': 'ark:/87292/w9cw46', 'http://cdm16001.contentdm.oclc.org/cdm/ref/collection/p16001coll16/id/77': 'ark:/87292/w9d05x', 'http://cdm16001.contentdm.oclc.org/cdm/ref/collection/p16001coll16/id/46': 'ark:/87292/w9d32t', 'http://cdm16001.contentdm.oclc.org/cdm/ref/collection/p16001coll16/id/478': 'ark:/87292/w9d336', 'http://cdm16001.contentdm.oclc.org/cdm/ref/collection/p16001coll16/id/436': 'ark:/87292/w9d62v', 'http://cdm16001.contentdm.oclc.org/cdm/ref/collection/p16001coll16/id/15': 'ark:/87292/w9d91h', 'http://cdm16001.contentdm.oclc.org/cdm/ref/collection/p16001coll16/id/385': 'ark:/87292/w9dc97', 'http://cdm16001.contentdm.oclc.org/cdm/ref/collection/p16001coll16/id/304': 'ark:/87292/w9dg8w', 'http://cdm16001.contentdm.oclc.org/cdm/ref/collection/p16001coll16/id/255': 'ark:/87292/w9dp66', 'http://cdm16001.contentdm.oclc.org/cdm/ref/collection/p16001coll16/id/122': 'ark:/87292/w9ds5v', 'http://cdm16001.contentdm.oclc.org/cdm/ref/collection/p16001coll16/id/530': 'ark:/87292/w9dw68', 'http://cdm16001.contentdm.oclc.org/cdm/ref/collection/p16001coll16/id/69': 'ark:/87292/w9f03g', 'http://cdm16001.contentdm.oclc.org/cdm/ref/collection/p16001coll16/id/470': 'ark:/87292/w9f04v', 'http://cdm16001.contentdm.oclc.org/cdm/ref/collection/p16001coll16/id/38': 'ark:/87292/w9f324', 'http://cdm16001.contentdm.oclc.org/cdm/ref/collection/p16001coll16/id/412': 'ark:/87292/w9f63j', 'http://cdm16001.contentdm.oclc.org/cdm/ref/collection/p16001coll16/id/7': 'ark:/87292/w9f90f', 'http://cdm16001.contentdm.oclc.org/cdm/ref/collection/p16001coll16/id/375': 'ark:/87292/w9f91t', 'http://cdm16001.contentdm.oclc.org/cdm/ref/collection/p16001coll16/id/296': 'ark:/87292/w9fh0h', 'http://cdm16001.contentdm.oclc.org/cdm/ref/collection/p16001coll16/id/211': 'ark:/87292/w9fk7v', 'http://cdm16001.contentdm.oclc.org/cdm/ref/collection/p16001coll16/id/92': 'ark:/87292/w9fs7x', 'http://cdm16001.contentdm.oclc.org/cdm/ref/collection/p16001coll16/id/61': 'ark:/87292/w9fw4t', 'http://cdm16001.contentdm.oclc.org/cdm/ref/collection/p16001coll16/id/506': 'ark:/87292/w9fw56', 'http://cdm16001.contentdm.oclc.org/cdm/ref/collection/p16001coll16/id/462': 'ark:/87292/w9g045', 'http://cdm16001.contentdm.oclc.org/cdm/ref/collection/p16001coll16/id/30': 'ark:/87292/w9g33t', 'http://cdm16001.contentdm.oclc.org/cdm/ref/collection/p16001coll16/id/402': 'ark:/87292/w9g62g', 'http://cdm16001.contentdm.oclc.org/cdm/ref/collection/p16001coll16/id/367': 'ark:/87292/w9g90r', 'http://cdm16001.contentdm.oclc.org/cdm/ref/collection/p16001coll16/id/288': 'ark:/87292/w9gg8h', 'http://cdm16001.contentdm.oclc.org/cdm/ref/collection/p16001coll16/id/187': 'ark:/87292/w9gk75', 'http://cdm16001.contentdm.oclc.org/cdm/ref/collection/p16001coll16/id/84': 'ark:/87292/w9gs5g', 'http://cdm16001.contentdm.oclc.org/cdm/ref/collection/p16001coll16/id/485': 'ark:/87292/w9gs6v', 'http://cdm16001.contentdm.oclc.org/cdm/ref/collection/p16001coll16/id/53': 'ark:/87292/w9gw44', 'http://cdm16001.contentdm.oclc.org/cdm/ref/collection/p16001coll16/id/454': 'ark:/87292/w9h05v', 'http://cdm16001.contentdm.oclc.org/cdm/ref/collection/p16001coll16/id/22': 'ark:/87292/w9h32r', 'http://cdm16001.contentdm.oclc.org/cdm/ref/collection/p16001coll16/id/394': 'ark:/87292/w9h334', 'http://cdm16001.contentdm.oclc.org/cdm/ref/collection/p16001coll16/id/329': 'ark:/87292/w9h92t', 'http://cdm16001.contentdm.oclc.org/cdm/ref/collection/p16001coll16/id/274': 'ark:/87292/w9hc95', 'http://cdm16001.contentdm.oclc.org/cdm/ref/collection/p16001coll16/id/163': 'ark:/87292/w9hk8v', 'http://cdm16001.contentdm.oclc.org/cdm/ref/collection/p16001coll16/id/76': 'ark:/87292/w9hp64', 'http://cdm16001.contentdm.oclc.org/cdm/ref/collection/p16001coll16/id/555': 'ark:/87292/w9hp7h', 'http://cdm16001.contentdm.oclc.org/cdm/ref/collection/p16001coll16/id/477': 'ark:/87292/w9hs65', 'http://cdm16001.contentdm.oclc.org/cdm/ref/collection/p16001coll16/id/45': 'ark:/87292/w9hw5t', 'http://cdm16001.contentdm.oclc.org/cdm/ref/collection/p16001coll16/id/14': 'ark:/87292/w9j03d', 'http://cdm16001.contentdm.oclc.org/cdm/ref/collection/p16001coll16/id/433': 'ark:/87292/w9j04s', 'http://cdm16001.contentdm.oclc.org/cdm/ref/collection/p16001coll16/id/384': 'ark:/87292/w9j322', 'http://cdm16001.contentdm.oclc.org/cdm/ref/collection/p16001coll16/id/303': 'ark:/87292/w9j90c', 'http://cdm16001.contentdm.oclc.org/cdm/ref/collection/p16001coll16/id/252': 'ark:/87292/w9jc9g', 'http://cdm16001.contentdm.oclc.org/cdm/ref/collection/p16001coll16/id/119': 'ark:/87292/w9jk7s', 'http://cdm16001.contentdm.oclc.org/cdm/ref/collection/p16001coll16/id/527': 'ark:/87292/w9jk85', 'http://cdm16001.contentdm.oclc.org/cdm/ref/collection/p16001coll16/id/68': 'ark:/87292/w9jp6f', 'http://cdm16001.contentdm.oclc.org/cdm/ref/collection/p16001coll16/id/37': 'ark:/87292/w9js7v', 'http://cdm16001.contentdm.oclc.org/cdm/ref/collection/p16001coll16/id/469': 'ark:/87292/w9js87', 'http://cdm16001.contentdm.oclc.org/cdm/ref/collection/p16001coll16/id/409': 'ark:/87292/w9jw4r', 'http://cdm16001.contentdm.oclc.org/cdm/ref/collection/p16001coll16/id/6': 'ark:/87292/w9k03q', 'http://cdm16001.contentdm.oclc.org/cdm/ref/collection/p16001coll16/id/374': 'ark:/87292/w9k344', 'http://cdm16001.contentdm.oclc.org/cdm/ref/collection/p16001coll16/id/295': 'ark:/87292/w9k611', 'http://cdm16001.contentdm.oclc.org/cdm/ref/collection/p16001coll16/id/208': 'ark:/87292/w9kd0q', 'http://cdm16001.contentdm.oclc.org/cdm/ref/collection/p16001coll16/id/91': 'ark:/87292/w9kg8f', 'http://cdm16001.contentdm.oclc.org/cdm/ref/collection/p16001coll16/id/503': 'ark:/87292/w9kk8g', 'http://cdm16001.contentdm.oclc.org/cdm/ref/collection/p16001coll16/id/60': 'ark:/87292/w9kp74', 'http://cdm16001.contentdm.oclc.org/cdm/ref/collection/p16001coll16/id/29': 'ark:/87292/w9ks5d', 'http://cdm16001.contentdm.oclc.org/cdm/ref/collection/p16001coll16/id/461': 'ark:/87292/w9ks6s', 'http://cdm16001.contentdm.oclc.org/cdm/ref/collection/p16001coll16/id/401': 'ark:/87292/w9kw5f', 'http://cdm16001.contentdm.oclc.org/cdm/ref/collection/p16001coll16/id/366': 'ark:/87292/w9m32p', 'http://cdm16001.contentdm.oclc.org/cdm/ref/collection/p16001coll16/id/287': 'ark:/87292/w9m61b', 'http://cdm16001.contentdm.oclc.org/cdm/ref/collection/p16001coll16/id/184': 'ark:/87292/w9mc93', 'http://cdm16001.contentdm.oclc.org/cdm/ref/collection/p16001coll16/id/83': 'ark:/87292/w9mg8r', 'http://cdm16001.contentdm.oclc.org/cdm/ref/collection/p16001coll16/id/52': 'ark:/87292/w9mk95', 'http://cdm16001.contentdm.oclc.org/cdm/ref/collection/p16001coll16/id/484': 'ark:/87292/w9mm03', 'http://cdm16001.contentdm.oclc.org/cdm/ref/collection/p16001coll16/id/453': 'ark:/87292/w9mp62', 'http://cdm16001.contentdm.oclc.org/cdm/ref/collection/p16001coll16/id/21': 'ark:/87292/w9ms63', 'http://cdm16001.contentdm.oclc.org/cdm/ref/collection/p16001coll16/id/392': 'ark:/87292/w9mw64', 'http://cdm16001.contentdm.oclc.org/cdm/ref/collection/p16001coll16/id/326': 'ark:/87292/w9n03b', 'http://cdm16001.contentdm.oclc.org/cdm/ref/collection/p16001coll16/id/273': 'ark:/87292/w9n621', 'http://cdm16001.contentdm.oclc.org/cdm/ref/collection/p16001coll16/id/154': 'ark:/87292/w9n909', 'http://cdm16001.contentdm.oclc.org/cdm/ref/collection/p16001coll16/id/552': 'ark:/87292/w9nd0b', 'http://cdm16001.contentdm.oclc.org/cdm/ref/collection/p16001coll16/id/75': 'ark:/87292/w9ng9f', 'http://cdm16001.contentdm.oclc.org/cdm/ref/collection/p16001coll16/id/44': 'ark:/87292/w9nk7q', 'http://cdm16001.contentdm.oclc.org/cdm/ref/collection/p16001coll16/id/476': 'ark:/87292/w9nk83', 'http://cdm16001.contentdm.oclc.org/cdm/ref/collection/p16001coll16/id/430': 'ark:/87292/w9np7r', 'http://cdm16001.contentdm.oclc.org/cdm/ref/collection/p16001coll16/id/13': 'ark:/87292/w9ns6d', 'http://cdm16001.contentdm.oclc.org/cdm/ref/collection/p16001coll16/id/383': 'ark:/87292/w9nw4p', 'http://cdm16001.contentdm.oclc.org/cdm/ref/collection/p16001coll16/id/302': 'ark:/87292/w9p03n', 'http://cdm16001.contentdm.oclc.org/cdm/ref/collection/p16001coll16/id/249': 'ark:/87292/w9p342', 'http://cdm16001.contentdm.oclc.org/cdm/ref/collection/p16001coll16/id/109': 'ark:/87292/w9p90m', 'http://cdm16001.contentdm.oclc.org/cdm/ref/collection/p16001coll16/id/67': 'ark:/87292/w9pd11', 'http://cdm16001.contentdm.oclc.org/cdm/ref/collection/p16001coll16/id/524': 'ark:/87292/w9pd2d', 'http://cdm16001.contentdm.oclc.org/cdm/ref/collection/p16001coll16/id/468': 'ark:/87292/w9pg8c', 'http://cdm16001.contentdm.oclc.org/cdm/ref/collection/p16001coll16/id/36': 'ark:/87292/w9pk8d', 'http://cdm16001.contentdm.oclc.org/cdm/ref/collection/p16001coll16/id/5': 'ark:/87292/w9pp72', 'http://cdm16001.contentdm.oclc.org/cdm/ref/collection/p16001coll16/id/408': 'ark:/87292/w9pp8f', 'http://cdm16001.contentdm.oclc.org/cdm/ref/collection/p16001coll16/id/373': 'ark:/87292/w9ps5b', 'http://cdm16001.contentdm.oclc.org/cdm/ref/collection/p16001coll16/id/294': 'ark:/87292/w9q04b', 'http://cdm16001.contentdm.oclc.org/cdm/ref/collection/p16001coll16/id/205': 'ark:/87292/w9q32m', 'http://cdm16001.contentdm.oclc.org/cdm/ref/collection/p16001coll16/id/90': 'ark:/87292/w9q919', 'http://cdm16001.contentdm.oclc.org/cdm/ref/collection/p16001coll16/id/59': 'ark:/87292/w9qc91', 'http://cdm16001.contentdm.oclc.org/cdm/ref/collection/p16001coll16/id/500': 'ark:/87292/w9qd0z', 'http://cdm16001.contentdm.oclc.org/cdm/ref/collection/p16001coll16/id/460': 'ark:/87292/w9qg92', 'http://cdm16001.contentdm.oclc.org/cdm/ref/collection/p16001coll16/id/28': 'ark:/87292/w9qk8q', 'http://cdm16001.contentdm.oclc.org/cdm/ref/collection/p16001coll16/id/400': 'ark:/87292/w9qp7c', 'http://cdm16001.contentdm.oclc.org/cdm/ref/collection/p16001coll16/id/358': 'ark:/87292/w9qs5n', 'http://cdm16001.contentdm.oclc.org/cdm/ref/collection/p16001coll16/id/286': 'ark:/87292/w9qw62', 'http://cdm16001.contentdm.oclc.org/cdm/ref/collection/p16001coll16/id/181': 'ark:/87292/w9r32x', 'http://cdm16001.contentdm.oclc.org/cdm/ref/collection/p16001coll16/id/82': 'ark:/87292/w9r63b', 'http://cdm16001.contentdm.oclc.org/cdm/ref/collection/p16001coll16/id/483': 'ark:/87292/w9r907', 'http://cdm16001.contentdm.oclc.org/cdm/ref/collection/p16001coll16/id/51': 'ark:/87292/w9rd08', 'http://cdm16001.contentdm.oclc.org/cdm/ref/collection/p16001coll16/id/20': 'ark:/87292/w9rg9c', 'http://cdm16001.contentdm.oclc.org/cdm/ref/collection/p16001coll16/id/452': 'ark:/87292/w9rh09', 'http://cdm16001.contentdm.oclc.org/cdm/ref/collection/p16001coll16/id/391': 'ark:/87292/w9rk7n', 'http://cdm16001.contentdm.oclc.org/cdm/ref/collection/p16001coll16/id/323': 'ark:/87292/w9rs6b', 'http://cdm16001.contentdm.oclc.org/cdm/ref/collection/p16001coll16/id/270': 'ark:/87292/w9rw4m', 'http://cdm16001.contentdm.oclc.org/cdm/ref/collection/p16001coll16/id/152': 'ark:/87292/w9s33m', 'http://cdm16001.contentdm.oclc.org/cdm/ref/collection/p16001coll16/id/74': 'ark:/87292/w9s61w', 'http://cdm16001.contentdm.oclc.org/cdm/ref/collection/p16001coll16/id/548': 'ark:/87292/w9s628', 'http://cdm16001.contentdm.oclc.org/cdm/ref/collection/p16001coll16/id/475': 'ark:/87292/w9s91x', 'http://cdm16001.contentdm.oclc.org/cdm/ref/collection/p16001coll16/id/43': 'ark:/87292/w9sd0k', 'http://cdm16001.contentdm.oclc.org/cdm/ref/collection/p16001coll16/id/12': 'ark:/87292/w9sg89', 'http://cdm16001.contentdm.oclc.org/cdm/ref/collection/p16001coll16/id/427': 'ark:/87292/w9sg9p', 'http://cdm16001.contentdm.oclc.org/cdm/ref/collection/p16001coll16/id/382': 'ark:/87292/w9sk7z', 'http://cdm16001.contentdm.oclc.org/cdm/ref/collection/p16001coll16/id/301': 'ark:/87292/w9sp8c', 'http://cdm16001.contentdm.oclc.org/cdm/ref/collection/p16001coll16/id/246': 'ark:/87292/w9sw59', 'http://cdm16001.contentdm.oclc.org/cdm/ref/collection/p16001coll16/id/104': 'ark:/87292/w9t048', 'http://cdm16001.contentdm.oclc.org/cdm/ref/collection/p16001coll16/id/521': 'ark:/87292/w9t32j', 'http://cdm16001.contentdm.oclc.org/cdm/ref/collection/p16001coll16/id/66': 'ark:/87292/w9t62k', 'http://cdm16001.contentdm.oclc.org/cdm/ref/collection/p16001coll16/id/35': 'ark:/87292/w9t917', 'http://cdm16001.contentdm.oclc.org/cdm/ref/collection/p16001coll16/id/467': 'ark:/87292/w9t92m', 'http://cdm16001.contentdm.oclc.org/cdm/ref/collection/p16001coll16/id/407': 'ark:/87292/w9tc9z', 'http://cdm16001.contentdm.oclc.org/cdm/ref/collection/p16001coll16/id/4': 'ark:/87292/w9tg90', 'http://cdm16001.contentdm.oclc.org/cdm/ref/collection/p16001coll16/id/372': 'ark:/87292/w9tk8n', 'http://cdm16001.contentdm.oclc.org/cdm/ref/collection/p16001coll16/id/293': 'ark:/87292/w9tp6x', 'http://cdm16001.contentdm.oclc.org/cdm/ref/collection/p16001coll16/id/202': 'ark:/87292/w9tw5m', 'http://cdm16001.contentdm.oclc.org/cdm/ref/collection/p16001coll16/id/89': 'ark:/87292/w9v036', 'http://cdm16001.contentdm.oclc.org/cdm/ref/collection/p16001coll16/id/497': 'ark:/87292/w9v337', 'http://cdm16001.contentdm.oclc.org/cdm/ref/collection/p16001coll16/id/58': 'ark:/87292/w9v62w', 'http://cdm16001.contentdm.oclc.org/cdm/ref/collection/p16001coll16/id/459': 'ark:/87292/w9v638', 'http://cdm16001.contentdm.oclc.org/cdm/ref/collection/p16001coll16/id/27': 'ark:/87292/w9v905', 'http://cdm16001.contentdm.oclc.org/cdm/ref/collection/p16001coll16/id/399': 'ark:/87292/w9vd06', 'http://cdm16001.contentdm.oclc.org/cdm/ref/collection/p16001coll16/id/355': 'ark:/87292/w9vh07', 'http://cdm16001.contentdm.oclc.org/cdm/ref/collection/p16001coll16/id/285': 'ark:/87292/w9vp7m', 'http://cdm16001.contentdm.oclc.org/cdm/ref/collection/p16001coll16/id/178': 'ark:/87292/w9vs68', 'http://cdm16001.contentdm.oclc.org/cdm/ref/collection/p16001coll16/id/81': 'ark:/87292/w9w04w', 'http://cdm16001.contentdm.oclc.org/cdm/ref/collection/p16001coll16/id/50': 'ark:/87292/w9w33j', 'http://cdm16001.contentdm.oclc.org/cdm/ref/collection/p16001coll16/id/482': 'ark:/87292/w9w34x', 'http://cdm16001.contentdm.oclc.org/cdm/ref/collection/p16001coll16/id/446': 'ark:/87292/w9w61t', 'http://cdm16001.contentdm.oclc.org/cdm/ref/collection/p16001coll16/id/19': 'ark:/87292/w9w91v', 'http://cdm16001.contentdm.oclc.org/cdm/ref/collection/p16001coll16/id/390': 'ark:/87292/w9wd1w', 'http://cdm16001.contentdm.oclc.org/cdm/ref/collection/p16001coll16/id/320': 'ark:/87292/w9wg87', 'http://cdm16001.contentdm.oclc.org/cdm/ref/collection/p16001coll16/id/267': 'ark:/87292/w9wp7x', 'http://cdm16001.contentdm.oclc.org/cdm/ref/collection/p16001coll16/id/145': 'ark:/87292/w9ws56', 'http://cdm16001.contentdm.oclc.org/cdm/ref/collection/p16001coll16/id/545': 'ark:/87292/w9ww57', 'http://cdm16001.contentdm.oclc.org/cdm/ref/collection/p16001coll16/id/73': 'ark:/87292/w9x046', 'http://cdm16001.contentdm.oclc.org/cdm/ref/collection/p16001coll16/id/474': 'ark:/87292/w9x05k', 'http://cdm16001.contentdm.oclc.org/cdm/ref/collection/p16001coll16/id/42': 'ark:/87292/w9x32g', 'http://cdm16001.contentdm.oclc.org/cdm/ref/collection/p16001coll16/id/424': 'ark:/87292/w9x63w', 'http://cdm16001.contentdm.oclc.org/cdm/ref/collection/p16001coll16/id/11': 'ark:/87292/w9x90s', 'http://cdm16001.contentdm.oclc.org/cdm/ref/collection/p16001coll16/id/381': 'ark:/87292/w9x915', 'http://cdm16001.contentdm.oclc.org/cdm/ref/collection/p16001coll16/id/300': 'ark:/87292/w9xg9x', 'http://cdm16001.contentdm.oclc.org/cdm/ref/collection/p16001coll16/id/243': 'ark:/87292/w9xk8k', 'http://cdm16001.contentdm.oclc.org/cdm/ref/collection/p16001coll16/id/96': 'ark:/87292/w9xs6w', 'http://cdm16001.contentdm.oclc.org/cdm/ref/collection/p16001coll16/id/65': 'ark:/87292/w9xw5j', 'http://cdm16001.contentdm.oclc.org/cdm/ref/collection/p16001coll16/id/518': 'ark:/87292/w9xw6x', 'http://cdm16001.contentdm.oclc.org/cdm/ref/collection/p16001coll16/id/466': 'ark:/87292/w9z034', 'http://cdm16001.contentdm.oclc.org/cdm/ref/collection/p16001coll16/id/34': 'ark:/87292/w9z335', 'http://cdm16001.contentdm.oclc.org/cdm/ref/collection/p16001coll16/id/3': 'ark:/87292/w9z62t', 'http://cdm16001.contentdm.oclc.org/cdm/ref/collection/p16001coll16/id/406': 'ark:/87292/w9z636', 'http://cdm16001.contentdm.oclc.org/cdm/ref/collection/p16001coll16/id/371': 'ark:/87292/w9z903', 'http://cdm16001.contentdm.oclc.org/cdm/ref/collection/p16001coll16/id/292': 'ark:/87292/w9zg97', 'http://cdm16001.contentdm.oclc.org/cdm/ref/collection/p16001coll16/id/199': 'ark:/87292/w9zk7h', 'http://cdm16001.contentdm.oclc.org/cdm/ref/collection/p16001coll16/id/88': 'ark:/87292/w9zs66', 'http://cdm16001.contentdm.oclc.org/cdm/ref/collection/p16001coll16/id/493': 'ark:/87292/w9zs7k', 'http://cdm16001.contentdm.oclc.org/cdm/ref/collection/p16001coll16/id/57': 'ark:/87292/w9zw4g'}\n"
     ]
    }
   ],
   "source": [
    "# [x.text for x in root.xpath('record/element[@name=\"_target\"]')]\n",
    "print(len(my_dict))\n",
    "print(my_dict)"
   ]
  },
  {
   "cell_type": "markdown",
   "metadata": {},
   "source": [
    "## Batch Upload to CDM with Selenium\n",
    "You may need to change the following:\n",
    "* ContentDM server\n",
    "* Driver path\n",
    "* Sign in with ContentDM Credentials when prompted\n",
    "* Collection name value"
   ]
  },
  {
   "cell_type": "code",
   "execution_count": 58,
   "metadata": {},
   "outputs": [],
   "source": [
    "from selenium import webdriver\n",
    "from selenium.webdriver.common.by import By\n",
    "from selenium.webdriver.support.select import Select\n",
    "import time\n",
    "from math import ceil\n",
    "\n",
    "driver = webdriver.Chrome(r'arks_code/chromedriver')\n",
    "driver.get('https://server16001.contentdm.oclc.org/cgi-bin/admin/start.exe')\n",
    "\n",
    "collections_tab = driver.find_element(By.XPATH, \"//a[@id='acolls' and @title='collections']\")\n",
    "collections_tab.click()\n",
    "\n",
    "driver.implicitly_wait(10)\n",
    "driver.maximize_window()\n",
    "element = driver.find_element(By.XPATH, '//select[@name=\"CISODB\"]')\n",
    "sel = Select(element)\n",
    "sel.select_by_value('/{}'.format(collection_number.replace('/','')))\n",
    "\n",
    "driver.find_element(By.XPATH, '//input[@type=\"submit\" and @value=\"change\"]').click()\n",
    "\n",
    "items_tab = driver.find_element(By.XPATH, \"//a[@id='aitems' and @title='items']\")\n",
    "items_tab.click()\n",
    "\n",
    "edit_collection = driver.find_element(By.XPATH, '//a/b[text()=\"Edit\"]')\n",
    "edit_collection.click()\n",
    "driver.find_element(By.XPATH, '//*[@id=\"AllFields\"]/div/table/tbody/tr[1]/td[3]/span/a/b').click()\n",
    "\n",
    "num = int(driver.find_element(By.XPATH, '/html/body/table/tbody/tr[2]/td/table/tbody/tr/td/table[2]/tbody/tr[1]/td/span/b/span' ).text)\n",
    "table_range = num // 50\n",
    "\n",
    "# Table Data\n",
    "x = driver.find_elements(By.XPATH, '//table[@summary=\"search results\"]/tbody/tr/td/span/a[1]')\n",
    "urllist = [y.get_attribute(\"href\") for y in x]\n",
    "\n",
    "if table_range < 1:\n",
    "    pass\n",
    "else:\n",
    "    for x in range(table_range):\n",
    "        driver.find_elements(By.XPATH, '//a[@title=\"Next page\"]')[0].click()\n",
    "        x = driver.find_elements(By.XPATH, '//table[@summary=\"search results\"]/tbody/tr/td/span/a[1]')\n",
    "        [urllist.append(y.get_attribute(\"href\")) for y in x]"
   ]
  },
  {
   "cell_type": "markdown",
   "metadata": {},
   "source": [
    "Step 8: Make sure the urllist/2 and my_dict are equivalent"
   ]
  },
  {
   "cell_type": "code",
   "execution_count": 59,
   "metadata": {},
   "outputs": [
    {
     "name": "stdout",
     "output_type": "stream",
     "text": [
      "False\n",
      "289\n",
      "20\n"
     ]
    }
   ],
   "source": [
    "# The lengtho of urllist is roughly (but not always exactly)\n",
    "# double the length of my_dict because for each url that\n",
    "# corresponds to the url in my_dict there is often an additional\n",
    "# one that includes \"edittxt.exe.\" If we remove this second\n",
    "# type of url, we get a better number for comparison.\n",
    "urllist_len = len([x for x in urllist if \"edittxt.exe\" not in x])\n",
    "my_dict_len = len(my_dict)\n",
    "\n",
    "print(urllist_len == my_dict_len)\n",
    "print(urllist_len)\n",
    "print(my_dict_len)"
   ]
  },
  {
   "cell_type": "markdown",
   "metadata": {},
   "source": [
    "Step 9: Upload ARKS to CDM"
   ]
  },
  {
   "cell_type": "code",
   "execution_count": 69,
   "metadata": {},
   "outputs": [
    {
     "name": "stdout",
     "output_type": "stream",
     "text": [
      "http://cdm16001.contentdm.oclc.org/cdm/singleitem/collection/p16001coll16/id/68\n",
      "http://cdm16001.contentdm.oclc.org/cdm/singleitem/collection/p16001coll16/id/40\n",
      "http://cdm16001.contentdm.oclc.org/cdm/singleitem/collection/p16001coll16/id/16\n",
      "http://cdm16001.contentdm.oclc.org/cdm/singleitem/collection/p16001coll16/id/83\n",
      "http://cdm16001.contentdm.oclc.org/cdm/singleitem/collection/p16001coll16/id/59\n",
      "http://cdm16001.contentdm.oclc.org/cdm/singleitem/collection/p16001coll16/id/34\n",
      "http://cdm16001.contentdm.oclc.org/cdm/singleitem/collection/p16001coll16/id/62\n",
      "http://cdm16001.contentdm.oclc.org/cdm/singleitem/collection/p16001coll16/id/32\n",
      "http://cdm16001.contentdm.oclc.org/cdm/singleitem/collection/p16001coll16/id/30\n",
      "http://cdm16001.contentdm.oclc.org/cdm/singleitem/collection/p16001coll16/id/29\n",
      "http://cdm16001.contentdm.oclc.org/cdm/singleitem/collection/p16001coll16/id/33\n",
      "http://cdm16001.contentdm.oclc.org/cdm/singleitem/collection/p16001coll16/id/18\n",
      "http://cdm16001.contentdm.oclc.org/cdm/singleitem/collection/p16001coll16/id/27\n",
      "http://cdm16001.contentdm.oclc.org/cdm/singleitem/collection/p16001coll16/id/28\n",
      "http://cdm16001.contentdm.oclc.org/cdm/singleitem/collection/p16001coll16/id/56\n",
      "http://cdm16001.contentdm.oclc.org/cdm/singleitem/collection/p16001coll16/id/77\n",
      "http://cdm16001.contentdm.oclc.org/cdm/singleitem/collection/p16001coll16/id/67\n",
      "http://cdm16001.contentdm.oclc.org/cdm/singleitem/collection/p16001coll16/id/95\n",
      "http://cdm16001.contentdm.oclc.org/cdm/singleitem/collection/p16001coll16/id/369\n",
      "http://cdm16001.contentdm.oclc.org/cdm/singleitem/collection/p16001coll16/id/90\n"
     ]
    }
   ],
   "source": [
    "# iterate through every other url and update identifier AllFields\n",
    "for item in urllist2:\n",
    "    print(item)\n",
    "    if 'cdm16001' in item:\n",
    "            pass\n",
    "    else:\n",
    "        driver.get(item)\n",
    "        # send Ark if title matches ?\n",
    "        urlfind = driver.find_element(By.XPATH, '/html/body/table/tbody/tr[2]/td/table/tbody/tr/td/table[2]/tbody/tr[2]/td/table/tbody/tr[1]/td/span/a')\n",
    "        z = urlfind.get_attribute('href')\n",
    "        z = z.split('/')\n",
    "        z[4] = 'ref'\n",
    "        z = '/'.join(z)\n",
    "        \n",
    "        # pick only one\n",
    "        #----------------------------------------------------------------------------------------\n",
    "        identifier_field = driver.find_element(By.XPATH, '//input[@name=\"identi\"]')\n",
    "        # identifier_field = driver.find_element(By.XPATH, '//input[@name=\"identa\"]')\n",
    "        # identifier_field = driver.find_element(By.XPATH, '/html/body/table/tbody/tr[2]/td/table/tbody/tr/td/table[2]/tbody/tr[2]/td/table/tbody/tr[28]/td[2]/input')\n",
    "        # identifier_field = driver.find_element(By.XPATH, '//input[@name=\"uid\"]')\n",
    "        \n",
    "        \n",
    "        #----------------------------------------------------------------------------------------\n",
    "        identifier_field_value = identifier_field.get_attribute('value')\n",
    "        if identifier_field_value == '':\n",
    "            try:\n",
    "                identifier_field.send_keys('{}{}'.format('https://n2t.net/',my_dict[(z[16:].split(',')[0].replace(\"'\",''))]))\n",
    "    \n",
    "                # time.sleep(10)\n",
    "                #--------------------------------------------------------------------\n",
    "                driver.find_element(By.XPATH, '//input[@id=\"subbut\"]').click()\n",
    "                #--------------------------------------------------------------------\n",
    "            except KeyError:\n",
    "                print('Error on {}'.format(z))\n",
    "        \n",
    "        else:\n",
    "            try:\n",
    "                if \"https://n2t.net/ark:/87292/\" not in identifier_field_value:\n",
    "                    identifier_field.send_keys('; {}{}'.format('https://n2t.net/',my_dict[(z[16:].split(',')[0].replace(\"'\",''))]))\n",
    "                \n",
    "                if \";\" in identifier_field_value:\n",
    "                    set_key = '<br>'.join(set(identifier_field.get_attribute('value').strip().split('; ')))\n",
    "                    identifier_field.clear()\n",
    "                    identifier_field = driver.find_element(By.XPATH, '//input[@name=\"identi\"]')\n",
    "                    # identifier_field = driver.find_element(By.XPATH, '//input[@name=\"uid\"]')\n",
    "                    # identifier_field = driver.find_element(By.XPATH, '/html/body/table/tbody/tr[2]/td/table/tbody/tr/td/table[2]/tbody/tr[2]/td/table/tbody/tr[28]/td[2]/input')\n",
    "                    identifier_field.send_keys(set_key)\n",
    "                #--------------------------------------------------------------------\n",
    "                driver.find_element(By.XPATH, '//input[@id=\"subbut\"]').click()\n",
    "                #--------------------------------------------------------------------\n",
    "                # time.sleep(10)\n",
    "            except KeyError:\n",
    "                print('Error on {}'.format(z))\n",
    "\n",
    "            "
   ]
  },
  {
   "cell_type": "code",
   "execution_count": null,
   "metadata": {},
   "outputs": [],
   "source": []
  }
 ],
 "metadata": {
  "kernelspec": {
   "display_name": "Python 3",
   "language": "python",
   "name": "python3"
  },
  "language_info": {
   "codemirror_mode": {
    "name": "ipython",
    "version": 3
   },
   "file_extension": ".py",
   "mimetype": "text/x-python",
   "name": "python",
   "nbconvert_exporter": "python",
   "pygments_lexer": "ipython3",
   "version": "3.7.2"
  }
 },
 "nbformat": 4,
 "nbformat_minor": 2
}
