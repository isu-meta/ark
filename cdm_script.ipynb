{
 "cells": [
  {
   "cell_type": "markdown",
   "metadata": {},
   "source": [
    "## ContentDM ARK Assignment\n",
    "scripted by Ryan Wolfslayer, Iowa State Unviersity"
   ]
  },
  {
   "cell_type": "code",
   "execution_count": null,
   "metadata": {
    "collapsed": true
   },
   "outputs": [],
   "source": [
    "import arks_code.download_cdm as cdm \n",
    "import arks_code.transformations as trans\n",
    "import ast\n",
    "import glob \n",
    "import os \n",
    "import pandas as pd\n",
    "import shutil\n",
    "import subprocess\n",
    "\n",
    "from lxml import etree\n",
    "from lxml.etree import parse\n"
   ]
  },
  {
   "cell_type": "markdown",
   "metadata": {},
   "source": [
    "Step 1: Download XML from CDM"
   ]
  },
  {
   "cell_type": "code",
   "execution_count": null,
   "metadata": {
    "collapsed": true
   },
   "outputs": [],
   "source": [
    "# OPTIONAL STEP\n",
    "\n",
    "TARGETPATH=os.path.join(os.getcwd(),'cdm_xml')\n",
    "\n",
    "ff = cdm.DownloadXML()\n",
    "ff.setup(TARGETPATH, driver_path='arks_code/chromedriver')\n",
    "\n",
    "[ff.select_and_export(col) for col in cdm.cdm_collections()]\n",
    "ff.driver.close()\n",
    "\n",
    "# rename files\n",
    "for file in glob.glob(TARGETPATH+'/*.xml'):\n",
    "    root = etree.parse(file).xpath('//rdf:Description/@about', \n",
    "                                   namespaces={'rdf':\n",
    "                                               \"http://www.w3.org/1999/02/22-rdf-syntax-ns#\"})\n",
    "    shutil.move(file, os.path.join(TARGETPATH, str(root[0].split('/')[-3])+'.xml'))\n"
   ]
  },
  {
   "cell_type": "markdown",
   "metadata": {},
   "source": [
    "Step 2: Select Collection and convert to dataframe"
   ]
  },
  {
   "cell_type": "code",
   "execution_count": null,
   "metadata": {
    "collapsed": true
   },
   "outputs": [],
   "source": [
    "collection_filename = 'cdm_xml/isu_historical_maps.xml'\n",
    "\n",
    "\n",
    "# If you get an encoding error, try experimenting with the pandas encoding\n",
    "df = pd.read_html(str(trans.dctohtml()(parse(collection_filename))),\n",
    "                  encoding='ASCII')[0]\n",
    "\n",
    "df.columns = df.iloc[0]\n",
    "df = df.iloc[1:]\n",
    "df['publisher'] = 'Iowa State University Library'\n",
    "\n",
    "# Dropping nan values on type works in most collections\n",
    "# df = df.dropna(subset=['type'], axis=0)\n",
    "df['date'] = df['date'].apply(lambda x: trans.remove_nan(x))\n",
    "\n",
    "df['title'] = df['title'].apply(lambda x: trans.remove_xml_encoding(str(x)))\n",
    "df['creator'] = df['creator'].apply(lambda x: trans.remove_xml_encoding(str(x)))\n"
   ]
  },
  {
   "cell_type": "markdown",
   "metadata": {},
   "source": [
    "Step 3: Confirm collection metadata is accurate, and make corrections\n",
    "Note that data cleaning may change depending on the collection."
   ]
  },
  {
   "cell_type": "code",
   "execution_count": null,
   "metadata": {
    "collapsed": true
   },
   "outputs": [],
   "source": [
    "# count is incorrect, removing undated rows \n",
    "df = df[df['date']!='undated']\n",
    "df.shape"
   ]
  },
  {
   "cell_type": "code",
   "execution_count": null,
   "metadata": {
    "collapsed": true
   },
   "outputs": [],
   "source": [
    "# ENTER LOGIN for EZID\n",
    "import subprocess\n",
    "username = ''\n",
    "password = ''"
   ]
  },
  {
   "cell_type": "markdown",
   "metadata": {},
   "source": [
    "# ENTER LOGIN for EZID\n",
    "\n",
    "At this point, we are ready for upload, make sure to check the shoulder\n",
    "This part also requires python2"
   ]
  },
  {
   "cell_type": "markdown",
   "metadata": {},
   "source": [
    "Step 4:"
   ]
  },
  {
   "cell_type": "code",
   "execution_count": null,
   "metadata": {
    "collapsed": true
   },
   "outputs": [],
   "source": [
    "# REGISTER EZID; this will submit to EZID\n",
    "# Requires ezid.py be stored in same directory; make sure you are using python2\n",
    "# Change the ark in the subprocess like to reflect desired shoulder\n",
    "\n",
    "for index, row in df.iterrows():\n",
    "    with open('metadata.txt','w') as f:\n",
    "        f.write('erc.who:{}\\n'.format(row['creator']))\n",
    "        f.write('erc.what:{}\\n'.format(row['title']))\n",
    "        f.write('erc.when:{}\\n'.format(row['date']))\n",
    "        print(row['title'])\n",
    "        if row['creator'] != None and str(row['creator']) != 'nan':\n",
    "            f.write('dc.creator:{}\\n'.format(row['creator']))\n",
    "        else:\n",
    "            pass\n",
    "        f.write('dc.title:{}\\n'.format(row['title']))\n",
    "        f.write('dc.publisher:{}\\n'.format(row['publisher']))\n",
    "        if row['date'] != None and str(row['date']) != 'nan':\n",
    "            f.write('dc.date:{}\\n'.format(row['date']))\n",
    "        else:\n",
    "            pass\n",
    "        if row['type'] != None and str(row['type']) != 'nan':\n",
    "            f.write('dc.type:{}\\n'.format(row['type']))\n",
    "        else:\n",
    "            pass\n",
    "        f.write('_target:{}\\n'.format(row['url']))\n",
    "        f.write('_profile:dc')\n",
    "    subprocess.call([\"python\", \"ezid.py\", \"{}:{}\".format(username, password), \"mint\", \"\", \"@\", \"metadata.txt\"], shell=True)"
   ]
  },
  {
   "cell_type": "markdown",
   "metadata": {},
   "source": [
    "Step 5:"
   ]
  },
  {
   "cell_type": "markdown",
   "metadata": {},
   "source": [
    "## Run Shell Script\n",
    "The EZID shell script might only run in a linux environment, please locate batch-download and run the following command in a linux shell\n",
    "\n",
    "* ./batch-download.sh iastate_lib PASSWORD format=xml type=ark\n",
    "\n",
    "This command will download an xml.gz file; make sure you have gunzip\n",
    "\n",
    "% gunzip -d [file].xml.gz\n",
    "\n",
    "The resulting xml file will be used in the next step"
   ]
  },
  {
   "cell_type": "markdown",
   "metadata": {},
   "source": [
    "## CDM Upload Process"
   ]
  },
  {
   "cell_type": "markdown",
   "metadata": {},
   "source": [
    "Step 6: Identify target URLs and format as a dictionary"
   ]
  },
  {
   "cell_type": "code",
   "execution_count": null,
   "metadata": {
    "collapsed": true
   },
   "outputs": [],
   "source": [
    "# declare collection number to upload\n",
    "# make sure to include the backslash to avoid overlap\n",
    "\n",
    "#'p16001coll47/'\n",
    "\n",
    "collection_number = 'p16001coll47/'\n",
    "target_xml = 'ezid_xml/03a533575b.xml'\n",
    "\n",
    "root = trans.formatupload(collection_number)(parse(target_xml))\n",
    "my_dict = ast.literal_eval(unicode(trans.formatxmltodict()(root)).encode('utf-8'))"
   ]
  },
  {
   "cell_type": "markdown",
   "metadata": {},
   "source": [
    "Step 7: Make sure urls are correct"
   ]
  },
  {
   "cell_type": "code",
   "execution_count": null,
   "metadata": {
    "collapsed": true
   },
   "outputs": [],
   "source": [
    "# [x.text for x in root.xpath('record/element[@name=\"_target\"]')]\n",
    "print(len(my_dict))\n",
    "print(my_dict)"
   ]
  },
  {
   "cell_type": "markdown",
   "metadata": {},
   "source": [
    "## Batch Upload to CDM with Selenium\n",
    "You will need to change the following:\n",
    "* ContentDM server\n",
    "* Driver path\n",
    "* Sign in with ContentDM Credentials when prompted\n",
    "* Collection name value"
   ]
  },
  {
   "cell_type": "code",
   "execution_count": null,
   "metadata": {
    "collapsed": true
   },
   "outputs": [],
   "source": [
    "from selenium import webdriver\n",
    "from selenium.webdriver.common.by import By\n",
    "from selenium.webdriver.support.select import Select\n",
    "import time\n",
    "\n",
    "driver = webdriver.Chrome(r'D:/Users/rwolfsla/Desktop/software/chromedriver')\n",
    "driver.get('https://server16001.contentdm.oclc.org/cgi-bin/admin/start.exe')\n",
    "\n",
    "collections_tab = driver.find_element(By.XPATH, \"//a[@id='acolls' and @title='collections']\")\n",
    "collections_tab.click()\n",
    "\n",
    "driver.implicitly_wait(10)\n",
    "driver.maximize_window()\n",
    "element = driver.find_element(By.XPATH, '//select[@name=\"CISODB\"]')\n",
    "sel = Select(element)\n",
    "sel.select_by_value('/{}'.format(collection_number.replace('/','')))\n",
    "\n",
    "driver.find_element(By.XPATH, '//input[@type=\"submit\" and @value=\"change\"]').click()\n",
    "\n",
    "items_tab = driver.find_element(By.XPATH, \"//a[@id='aitems' and @title='items']\")\n",
    "items_tab.click()\n",
    "\n",
    "edit_collection = driver.find_element(By.XPATH, '//a/b[text()=\"Edit\"]')\n",
    "edit_collection.click()\n",
    "driver.find_element(By.XPATH, '//*[@id=\"AllFields\"]/div/table/tbody/tr[1]/td[3]/span/a/b').click()\n",
    "\n",
    "num = driver.find_element(By.XPATH, '/html/body/table/tbody/tr[2]/td/table/tbody/tr/td/table[2]/tbody/tr[1]/td/span/b/span' ).text\n",
    "table_range = int(num)/50\n",
    "\n",
    "# Table Data\n",
    "x = driver.find_elements(By.XPATH, '//table[@summary=\"search results\"]/tbody/tr/td/span/a[1]')\n",
    "urllist = [y.get_attribute(\"href\") for y in x]\n",
    "\n",
    "if table_range < 1:\n",
    "    pass\n",
    "else:\n",
    "    for x in range(table_range):\n",
    "        driver.find_elements(By.XPATH, '//a[@title=\"Next page\"]')[0].click()\n",
    "        x = driver.find_elements(By.XPATH, '//table[@summary=\"search results\"]/tbody/tr/td/span/a[1]')\n",
    "        [urllist.append(y.get_attribute(\"href\")) for y in x]"
   ]
  },
  {
   "cell_type": "markdown",
   "metadata": {},
   "source": [
    "Step 8: Make sure the urllist/2 and my_dict are equivalent"
   ]
  },
  {
   "cell_type": "code",
   "execution_count": null,
   "metadata": {
    "collapsed": true
   },
   "outputs": [],
   "source": [
    "print(len(urllist)/2 == len(my_dict))\n",
    "print(len(urllist)/2)\n",
    "print(len(my_dict))"
   ]
  },
  {
   "cell_type": "markdown",
   "metadata": {},
   "source": [
    "Step 9: Upload ARKS to CDM"
   ]
  },
  {
   "cell_type": "code",
   "execution_count": null,
   "metadata": {
    "collapsed": true
   },
   "outputs": [],
   "source": [
    "# iterate through every other url and update identifier AllFields\n",
    "for item in urllist:\n",
    "    print(item)\n",
    "    if 'cdm16001' in item:\n",
    "            pass\n",
    "    else:\n",
    "        driver.get(item)\n",
    "        # send Ark if title matches ?\n",
    "        urlfind = driver.find_element(By.XPATH, '/html/body/table/tbody/tr[2]/td/table/tbody/tr/td/table[2]/tbody/tr[2]/td/table/tbody/tr[1]/td/span/a')\n",
    "        z = urlfind.get_attribute('href')\n",
    "        z = z.split('/')\n",
    "        z[4] = 'ref'\n",
    "        z = '/'.join(z)\n",
    "        \n",
    "        # pick only one\n",
    "        #----------------------------------------------------------------------------------------\n",
    "        identifier_field = driver.find_element(By.XPATH, '//input[@name=\"identi\"]')\n",
    "        # identifier_field = driver.find_element(By.XPATH, '//input[@name=\"identa\"]')\n",
    "        # identifier_field = driver.find_element(By.XPATH, '/html/body/table/tbody/tr[2]/td/table/tbody/tr/td/table[2]/tbody/tr[2]/td/table/tbody/tr[28]/td[2]/input')\n",
    "        # identifier_field = driver.find_element(By.XPATH, '//input[@name=\"uid\"]')\n",
    "        \n",
    "        \n",
    "        #----------------------------------------------------------------------------------------\n",
    "        if identifier_field.get_attribute('value')=='':\n",
    "            try:\n",
    "                identifier_field.send_keys('{}{}'.format('https://n2t.net/',my_dict[(z[16:].split(',')[0].replace(\"'\",''))]))\n",
    "    \n",
    "                # time.sleep(10)\n",
    "                #--------------------------------------------------------------------\n",
    "                driver.find_element(By.XPATH, '//input[@id=\"subbut\"]').click()\n",
    "                #--------------------------------------------------------------------\n",
    "            except KeyError:\n",
    "                print('Error on {}'.format(z))\n",
    "        \n",
    "        else:\n",
    "            try:\n",
    "                identifier_field.send_keys('; {}{}'.format('https://n2t.net/',my_dict[(z[16:].split(',')[0].replace(\"'\",''))]))\n",
    "                set_key = '<br>'.join(set(identifier_field.get_attribute('value').strip().split('; ')))\n",
    "                identifier_field.clear()\n",
    "                identifier_field = driver.find_element(By.XPATH, '//input[@name=\"identi\"]')\n",
    "                # identifier_field = driver.find_element(By.XPATH, '//input[@name=\"uid\"]')\n",
    "                # identifier_field = driver.find_element(By.XPATH, '/html/body/table/tbody/tr[2]/td/table/tbody/tr/td/table[2]/tbody/tr[2]/td/table/tbody/tr[28]/td[2]/input')\n",
    "                identifier_field.send_keys(set_key)\n",
    "                #--------------------------------------------------------------------\n",
    "                driver.find_element(By.XPATH, '//input[@id=\"subbut\"]').click()\n",
    "                #--------------------------------------------------------------------\n",
    "                # time.sleep(10)\n",
    "            except KeyError:\n",
    "                print('Error on {}'.format(z))\n",
    "\n",
    "            "
   ]
  }
 ],
 "metadata": {
  "kernelspec": {
   "display_name": "Arks",
   "language": "python",
   "name": "arks"
  },
  "language_info": {
   "codemirror_mode": {
    "name": "ipython",
    "version": 2
   },
   "file_extension": ".py",
   "mimetype": "text/x-python",
   "name": "python",
   "nbconvert_exporter": "python",
   "pygments_lexer": "ipython2",
   "version": "2.7.14"
  }
 },
 "nbformat": 4,
 "nbformat_minor": 2
}
